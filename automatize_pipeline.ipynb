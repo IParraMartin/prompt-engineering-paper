{
 "cells": [
  {
   "cell_type": "code",
   "execution_count": 90,
   "metadata": {},
   "outputs": [],
   "source": [
    "import pandas as pd\n",
    "from transformers import AutoTokenizer, AutoModelForSeq2SeqLM\n",
    "from rouge import Rouge\n",
    "import torch\n",
    "from lexical_diversity import lex_div as ld"
   ]
  },
  {
   "cell_type": "code",
   "execution_count": 132,
   "metadata": {},
   "outputs": [
    {
     "name": "stderr",
     "output_type": "stream",
     "text": [
      "Some weights of MT5ForConditionalGeneration were not initialized from the model checkpoint at bigscience/mt0-base and are newly initialized: ['decoder.embed_tokens.weight']\n",
      "You should probably TRAIN this model on a down-stream task to be able to use it for predictions and inference.\n"
     ]
    }
   ],
   "source": [
    "model_name = 'bigscience/mt0-base'\n",
    "tokenizer = AutoTokenizer.from_pretrained(model_name)\n",
    "model = AutoModelForSeq2SeqLM.from_pretrained(model_name)\n",
    "\n",
    "df = pd.read_excel('FILE_PATH')\n",
    "rouge = Rouge()\n",
    "results_df = pd.DataFrame()"
   ]
  },
  {
   "cell_type": "code",
   "execution_count": 133,
   "metadata": {},
   "outputs": [
    {
     "name": "stderr",
     "output_type": "stream",
     "text": [
      "/var/folders/3l/g5t448zx39gff0vm9hc1bps80000gn/T/ipykernel_4142/1830360844.py:41: FutureWarning: The frame.append method is deprecated and will be removed from pandas in a future version. Use pandas.concat instead.\n",
      "  results_df = results_df.append(result, ignore_index=True)\n",
      "/var/folders/3l/g5t448zx39gff0vm9hc1bps80000gn/T/ipykernel_4142/1830360844.py:41: FutureWarning: The frame.append method is deprecated and will be removed from pandas in a future version. Use pandas.concat instead.\n",
      "  results_df = results_df.append(result, ignore_index=True)\n",
      "/var/folders/3l/g5t448zx39gff0vm9hc1bps80000gn/T/ipykernel_4142/1830360844.py:41: FutureWarning: The frame.append method is deprecated and will be removed from pandas in a future version. Use pandas.concat instead.\n",
      "  results_df = results_df.append(result, ignore_index=True)\n",
      "/var/folders/3l/g5t448zx39gff0vm9hc1bps80000gn/T/ipykernel_4142/1830360844.py:41: FutureWarning: The frame.append method is deprecated and will be removed from pandas in a future version. Use pandas.concat instead.\n",
      "  results_df = results_df.append(result, ignore_index=True)\n",
      "/var/folders/3l/g5t448zx39gff0vm9hc1bps80000gn/T/ipykernel_4142/1830360844.py:41: FutureWarning: The frame.append method is deprecated and will be removed from pandas in a future version. Use pandas.concat instead.\n",
      "  results_df = results_df.append(result, ignore_index=True)\n",
      "/var/folders/3l/g5t448zx39gff0vm9hc1bps80000gn/T/ipykernel_4142/1830360844.py:41: FutureWarning: The frame.append method is deprecated and will be removed from pandas in a future version. Use pandas.concat instead.\n",
      "  results_df = results_df.append(result, ignore_index=True)\n",
      "/var/folders/3l/g5t448zx39gff0vm9hc1bps80000gn/T/ipykernel_4142/1830360844.py:41: FutureWarning: The frame.append method is deprecated and will be removed from pandas in a future version. Use pandas.concat instead.\n",
      "  results_df = results_df.append(result, ignore_index=True)\n",
      "/var/folders/3l/g5t448zx39gff0vm9hc1bps80000gn/T/ipykernel_4142/1830360844.py:41: FutureWarning: The frame.append method is deprecated and will be removed from pandas in a future version. Use pandas.concat instead.\n",
      "  results_df = results_df.append(result, ignore_index=True)\n",
      "/var/folders/3l/g5t448zx39gff0vm9hc1bps80000gn/T/ipykernel_4142/1830360844.py:41: FutureWarning: The frame.append method is deprecated and will be removed from pandas in a future version. Use pandas.concat instead.\n",
      "  results_df = results_df.append(result, ignore_index=True)\n",
      "/var/folders/3l/g5t448zx39gff0vm9hc1bps80000gn/T/ipykernel_4142/1830360844.py:41: FutureWarning: The frame.append method is deprecated and will be removed from pandas in a future version. Use pandas.concat instead.\n",
      "  results_df = results_df.append(result, ignore_index=True)\n"
     ]
    }
   ],
   "source": [
    "for index, row in df.iterrows():\n",
    "    prompt = row['Tech']\n",
    "    reference = \"Technology and Artificial Intelligence, which are extremely important and have the ability to analyze massive data sets and learn from patterns, have revolutionized industries like healthcare, finance, and transportation, by driving efficiencies and enabling new services, while also raising ethical considerations around privacy and job displacement.\"\n",
    "\n",
    "    if pd.isna(prompt):\n",
    "        continue  \n",
    "\n",
    "    # Encode & Decode\n",
    "    inputs = tokenizer.encode(prompt + tokenizer.eos_token, return_tensors=\"pt\")\n",
    "    attention_mask = torch.ones(inputs.shape, dtype=torch.long)\n",
    "    outputs = model.generate(inputs, attention_mask=attention_mask, max_length=50, num_return_sequences=1, temperature=0.7)\n",
    "    response = tokenizer.decode(outputs[0], skip_special_tokens=False)\n",
    "\n",
    "    input_ids = tokenizer.encode(response, return_tensors='pt')\n",
    "    attention_mask = torch.ones(input_ids.shape, dtype=torch.long)\n",
    "\n",
    "    with torch.no_grad():\n",
    "        outputs = model(input_ids, attention_mask=attention_mask, labels=input_ids)\n",
    "        \n",
    "    loss = outputs.loss\n",
    "    perplexity = torch.exp(loss)\n",
    "    \n",
    "    scores = rouge.get_scores(response, reference)\n",
    "\n",
    "    words = response.split()\n",
    "    mtld_score = ld.mtld(words)\n",
    "\n",
    "    response_length = len(response)\n",
    "\n",
    "    result = {\n",
    "        'Prompt': prompt,\n",
    "        'Response': response,\n",
    "        'Perplexity': perplexity.item(),\n",
    "        'Rouge-L Recall': scores[0]['rouge-l']['r'],\n",
    "        'Rouge-L Precision': scores[0]['rouge-l']['p'],\n",
    "        'Rouge-L F1': scores[0]['rouge-l']['f'],\n",
    "        'MTLD': mtld_score,\n",
    "        'Response Length': response_length\n",
    "    }\n",
    "    \n",
    "    results_df = results_df.append(result, ignore_index=True)\n",
    "\n",
    "\n",
    "results_df.to_excel('results.xlsx', index=False)"
   ]
  }
 ],
 "metadata": {
  "kernelspec": {
   "display_name": "Python 3",
   "language": "python",
   "name": "python3"
  },
  "language_info": {
   "codemirror_mode": {
    "name": "ipython",
    "version": 3
   },
   "file_extension": ".py",
   "mimetype": "text/x-python",
   "name": "python",
   "nbconvert_exporter": "python",
   "pygments_lexer": "ipython3",
   "version": "3.11.1"
  },
  "orig_nbformat": 4
 },
 "nbformat": 4,
 "nbformat_minor": 2
}
