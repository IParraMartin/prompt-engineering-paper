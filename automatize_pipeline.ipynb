{
 "cells": [
  {
   "cell_type": "code",
   "execution_count": 14,
   "metadata": {},
   "outputs": [],
   "source": [
    "import pandas as pd\n",
    "from transformers import AutoTokenizer, AutoModelForSeq2SeqLM\n",
    "from rouge import Rouge\n",
    "import torch\n",
    "from lexical_diversity import lex_div as ld"
   ]
  },
  {
   "cell_type": "code",
   "execution_count": 39,
   "metadata": {},
   "outputs": [],
   "source": [
    "model_name = 'declare-lab/flan-alpaca-large'\n",
    "tokenizer = AutoTokenizer.from_pretrained(model_name)\n",
    "model = AutoModelForSeq2SeqLM.from_pretrained(model_name)\n",
    "\n",
    "df = pd.read_excel('/Users/inigoparra/Desktop/scripting.xlsx')\n",
    "rouge = Rouge()\n",
    "results_df = pd.DataFrame()"
   ]
  },
  {
   "cell_type": "code",
   "execution_count": 40,
   "metadata": {},
   "outputs": [
    {
     "name": "stderr",
     "output_type": "stream",
     "text": [
      "/var/folders/3l/g5t448zx39gff0vm9hc1bps80000gn/T/ipykernel_4142/1066598474.py:41: FutureWarning: The frame.append method is deprecated and will be removed from pandas in a future version. Use pandas.concat instead.\n",
      "  results_df = results_df.append(result, ignore_index=True)\n",
      "/var/folders/3l/g5t448zx39gff0vm9hc1bps80000gn/T/ipykernel_4142/1066598474.py:41: FutureWarning: The frame.append method is deprecated and will be removed from pandas in a future version. Use pandas.concat instead.\n",
      "  results_df = results_df.append(result, ignore_index=True)\n",
      "/var/folders/3l/g5t448zx39gff0vm9hc1bps80000gn/T/ipykernel_4142/1066598474.py:41: FutureWarning: The frame.append method is deprecated and will be removed from pandas in a future version. Use pandas.concat instead.\n",
      "  results_df = results_df.append(result, ignore_index=True)\n",
      "/var/folders/3l/g5t448zx39gff0vm9hc1bps80000gn/T/ipykernel_4142/1066598474.py:41: FutureWarning: The frame.append method is deprecated and will be removed from pandas in a future version. Use pandas.concat instead.\n",
      "  results_df = results_df.append(result, ignore_index=True)\n",
      "/var/folders/3l/g5t448zx39gff0vm9hc1bps80000gn/T/ipykernel_4142/1066598474.py:41: FutureWarning: The frame.append method is deprecated and will be removed from pandas in a future version. Use pandas.concat instead.\n",
      "  results_df = results_df.append(result, ignore_index=True)\n",
      "/var/folders/3l/g5t448zx39gff0vm9hc1bps80000gn/T/ipykernel_4142/1066598474.py:41: FutureWarning: The frame.append method is deprecated and will be removed from pandas in a future version. Use pandas.concat instead.\n",
      "  results_df = results_df.append(result, ignore_index=True)\n",
      "/var/folders/3l/g5t448zx39gff0vm9hc1bps80000gn/T/ipykernel_4142/1066598474.py:41: FutureWarning: The frame.append method is deprecated and will be removed from pandas in a future version. Use pandas.concat instead.\n",
      "  results_df = results_df.append(result, ignore_index=True)\n",
      "/var/folders/3l/g5t448zx39gff0vm9hc1bps80000gn/T/ipykernel_4142/1066598474.py:41: FutureWarning: The frame.append method is deprecated and will be removed from pandas in a future version. Use pandas.concat instead.\n",
      "  results_df = results_df.append(result, ignore_index=True)\n",
      "/var/folders/3l/g5t448zx39gff0vm9hc1bps80000gn/T/ipykernel_4142/1066598474.py:41: FutureWarning: The frame.append method is deprecated and will be removed from pandas in a future version. Use pandas.concat instead.\n",
      "  results_df = results_df.append(result, ignore_index=True)\n",
      "/var/folders/3l/g5t448zx39gff0vm9hc1bps80000gn/T/ipykernel_4142/1066598474.py:41: FutureWarning: The frame.append method is deprecated and will be removed from pandas in a future version. Use pandas.concat instead.\n",
      "  results_df = results_df.append(result, ignore_index=True)\n"
     ]
    }
   ],
   "source": [
    "for index, row in df.iterrows():\n",
    "    prompt = row['History']\n",
    "    reference = \"History, as a study of past events and societies, provides a comprehensive understanding of human civilization, cultural evolution, political changes, technological advancements, and social transformations.\"\n",
    "\n",
    "    if pd.isna(prompt):  \n",
    "        continue  \n",
    "\n",
    "    # Encode & Decode\n",
    "    inputs = tokenizer.encode(prompt + tokenizer.eos_token, return_tensors=\"pt\")\n",
    "    attention_mask = torch.ones(inputs.shape, dtype=torch.long)  # Create attention mask\n",
    "    outputs = model.generate(inputs, attention_mask=attention_mask, max_length=50, num_return_sequences=1, temperature=0.7)\n",
    "    response = tokenizer.decode(outputs[0], skip_special_tokens=False)\n",
    "\n",
    "    input_ids = tokenizer.encode(response, return_tensors='pt')\n",
    "    attention_mask = torch.ones(input_ids.shape, dtype=torch.long)\n",
    "\n",
    "    with torch.no_grad():\n",
    "        outputs = model(input_ids, attention_mask=attention_mask, labels=input_ids)\n",
    "        \n",
    "    loss = outputs.loss\n",
    "    perplexity = torch.exp(loss)\n",
    "    \n",
    "    scores = rouge.get_scores(response, reference)\n",
    "\n",
    "    words = response.split()\n",
    "    mtld_score = ld.mtld(words)\n",
    "\n",
    "    response_length = len(response)\n",
    "\n",
    "    result = {\n",
    "        'Prompt': prompt,\n",
    "        'Response': response,\n",
    "        'Perplexity': perplexity.item(),\n",
    "        'Rouge-L Recall': scores[0]['rouge-l']['r'],\n",
    "        'Rouge-L Precision': scores[0]['rouge-l']['p'],\n",
    "        'Rouge-L F1': scores[0]['rouge-l']['f'],\n",
    "        'MTLD': mtld_score,\n",
    "        'Response Length': response_length\n",
    "    }\n",
    "    \n",
    "    results_df = results_df.append(result, ignore_index=True)\n",
    "\n",
    "\n",
    "results_df.to_excel('results.xlsx', index=False)"
   ]
  },
  {
   "cell_type": "code",
   "execution_count": null,
   "metadata": {},
   "outputs": [],
   "source": []
  }
 ],
 "metadata": {
  "kernelspec": {
   "display_name": "Python 3",
   "language": "python",
   "name": "python3"
  },
  "language_info": {
   "codemirror_mode": {
    "name": "ipython",
    "version": 3
   },
   "file_extension": ".py",
   "mimetype": "text/x-python",
   "name": "python",
   "nbconvert_exporter": "python",
   "pygments_lexer": "ipython3",
   "version": "3.11.1"
  },
  "orig_nbformat": 4
 },
 "nbformat": 4,
 "nbformat_minor": 2
}
